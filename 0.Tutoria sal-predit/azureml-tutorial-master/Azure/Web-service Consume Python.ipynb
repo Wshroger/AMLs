{
 "cells": [
  {
   "cell_type": "code",
   "execution_count": 5,
   "metadata": {},
   "outputs": [
    {
     "name": "stdout",
     "output_type": "stream",
     "text": [
      "input data converted to str:\n",
      " {\"data\": [[35], [40]]}\n",
      "\n",
      "\n",
      " 预测结果如下:\n",
      "\"[167523.0352303523, 176723.9159891599]\"\n"
     ]
    }
   ],
   "source": [
    "import requests\n",
    "import json\n",
    "\n",
    "# URL for the web service\n",
    "# copy from the portal\n",
    "url = \"http://50353d27-0ed3-4a70-81df-24f786986a0b.westeurope.azurecontainer.io/score\"\n",
    "\n",
    "scoring_uri = url\n",
    "# If the service is authenticated, set the key or token\n",
    "#key = '<your key or token>'\n",
    "\n",
    "# Two sets of data to score, so we get two results back\n",
    "# Data mush be in jason format!!\n",
    "\n",
    "data = {\"data\":\n",
    "        [\n",
    "            [\n",
    "                35\n",
    "            ],\n",
    "            [\n",
    "                40]\n",
    "        ]\n",
    "        }\n",
    "\n",
    "# Convert to JSON string\n",
    "input_data = json.dumps(data)\n",
    "print(\"input data converted to str:\\n\", input_data)\n",
    "\n",
    "# Set the content type\n",
    "headers = {'Content-Type': 'application/json'}\n",
    "# If authentication is enabled, set the authorization header\n",
    "#headers['Authorization'] = f'Bearer {key}'\n",
    "\n",
    "# Make the request and display the response\n",
    "resp = requests.post(scoring_uri, input_data, headers=headers)\n",
    "\n",
    "print('\\n\\n 预测结果如下:')\n",
    "\n",
    "print(resp.text) # response in json format, .text convert it to string"
   ]
  },
  {
   "cell_type": "code",
   "execution_count": null,
   "metadata": {},
   "outputs": [],
   "source": []
  }
 ],
 "metadata": {
  "kernelspec": {
   "display_name": "Python 3",
   "language": "python",
   "name": "python3"
  },
  "language_info": {
   "codemirror_mode": {
    "name": "ipython",
    "version": 3
   },
   "file_extension": ".py",
   "mimetype": "text/x-python",
   "name": "python",
   "nbconvert_exporter": "python",
   "pygments_lexer": "ipython3",
   "version": "3.7.3"
  }
 },
 "nbformat": 4,
 "nbformat_minor": 2
}
